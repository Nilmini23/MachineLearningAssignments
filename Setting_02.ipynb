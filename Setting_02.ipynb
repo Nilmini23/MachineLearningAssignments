{
 "cells": [
  {
   "cell_type": "markdown",
   "id": "76e841fa-11d6-4f75-bd03-241b6d255b43",
   "metadata": {},
   "source": [
    "#  Setting_2 - 62.5% accuracy on test dataset\n",
    "Building a machine learning pipeline with minimum number of features achieving more than 62.5% accuracy on test dataset using topics covered in the lecture so far.\n"
   ]
  },
  {
   "cell_type": "markdown",
   "id": "fd6195f3-9c04-459b-9ff3-ae7fa2cf54b0",
   "metadata": {},
   "source": [
    "## Imports and Environment Setup"
   ]
  },
  {
   "cell_type": "code",
   "execution_count": 1,
   "id": "d70f815d-a309-40a0-a6c4-7967670e33d3",
   "metadata": {},
   "outputs": [],
   "source": [
    "import numpy as np\n",
    "import pandas as pd\n",
    "import matplotlib.pyplot as plt\n",
    "import seaborn as sns\n",
    "import os\n",
    "\n",
    "from sklearn.datasets import fetch_20newsgroups\n",
    "from sklearn.feature_extraction.text import TfidfVectorizer\n",
    "from sklearn.model_selection import train_test_split, GridSearchCV\n",
    "from sklearn.pipeline import Pipeline\n",
    "from sklearn.preprocessing import StandardScaler\n",
    "from sklearn.decomposition import PCA\n",
    "from sklearn.svm import SVC\n",
    "from sklearn.metrics import accuracy_score\n"
   ]
  },
  {
   "cell_type": "markdown",
   "id": "3ba3425c-37e6-4150-a496-0a03578eb86e",
   "metadata": {},
   "source": [
    "## Data Loading, Vectorizing and Preprocessing"
   ]
  },
  {
   "cell_type": "code",
   "execution_count": 2,
   "id": "3576960f-f910-4bd8-bcc2-f33411bd780a",
   "metadata": {},
   "outputs": [],
   "source": [
    "# Load dataset\n",
    "newsgroups = fetch_20newsgroups(subset='all', remove=('headers', 'footers', 'quotes'))\n",
    "vectorizer = TfidfVectorizer(max_features=2000, stop_words='english')\n",
    "X = vectorizer.fit_transform(newsgroups.data)  # Features (18846 samples, 2000 features each)\n",
    "y = newsgroups.target  # Labels (digits 0 to19)\n",
    "\n",
    "# Convert sparse to dense for PCA\n",
    "X_dense = X.toarray()\n",
    "\n",
    "# Split into training and test sets (e.g., 80% train, 20% test)\n",
    "X_train, X_test, y_train, y_test = train_test_split(X_dense, y, test_size=0.2, random_state=42, stratify=y)"
   ]
  },
  {
   "cell_type": "markdown",
   "id": "53a1d423-7c3e-4ac2-89d1-1f43739ea265",
   "metadata": {},
   "source": [
    "## Initial hyperparameter tuning\n",
    "Phase 1: Tune SVM (C, gamma) with PCA=99\n",
    "- to identify the best combination of C and gamma to use in SVM."
   ]
  },
  {
   "cell_type": "code",
   "execution_count": 3,
   "id": "f052cfd6-29c5-44f8-a40d-0bed6eec25ee",
   "metadata": {},
   "outputs": [
    {
     "name": "stdout",
     "output_type": "stream",
     "text": [
      "Best hyperparameters (initial PCA=99): {'clf__C': 1, 'clf__gamma': 0.01}\n"
     ]
    }
   ],
   "source": [
    "# PHASE 1: Grid Search for best SVM params at fixed PCA size\n",
    "\n",
    "initial_pca_components = 99\n",
    "\n",
    "pipe = Pipeline([\n",
    "    ('scaler', StandardScaler()),\n",
    "    ('pca', PCA(n_components=initial_pca_components, random_state=42)),\n",
    "    ('clf', SVC(kernel='rbf'))\n",
    "])\n",
    "\n",
    "param_grid = {\n",
    "    'clf__C': [0.1, 1, 10],\n",
    "    'clf__gamma': [0.001, 0.01, 0.1]\n",
    "}\n",
    "\n",
    "grid = GridSearchCV(pipe, param_grid, cv=3, n_jobs=-1)\n",
    "grid.fit(X_train, y_train)\n",
    "\n",
    "best_params = grid.best_params_\n",
    "print(\"Best hyperparameters (initial PCA=99):\", best_params)"
   ]
  },
  {
   "cell_type": "markdown",
   "id": "2bd12faf-4957-49ef-b21a-77b48bc27dc5",
   "metadata": {},
   "source": [
    "## PCA Diamension Optimization\n",
    "Phase 2: Finding minimum PCA components ≥62.5% accuracy\n",
    "- to find the smallest PCA dimension that still gives high accuracy - optimizing for performance and interpretability."
   ]
  },
  {
   "cell_type": "code",
   "execution_count": 4,
   "id": "1fb81308-dad8-4c2d-8885-a0d786122ebe",
   "metadata": {},
   "outputs": [
    {
     "name": "stdout",
     "output_type": "stream",
     "text": [
      "PCA components =  65 → Test Accuracy = 61.86%\n",
      "PCA components =  66 → Test Accuracy = 62.39%\n",
      "PCA components =  67 → Test Accuracy = 61.46%\n",
      "PCA components =  68 → Test Accuracy = 62.25%\n",
      "PCA components =  69 → Test Accuracy = 62.28%\n",
      "PCA components =  70 → Test Accuracy = 62.49%\n",
      "PCA components =  71 → Test Accuracy = 62.81%\n",
      "\n",
      "Found minimum features: PCA components = 71 with accuracy = 62.81%\n"
     ]
    }
   ],
   "source": [
    "# PHASE 2: Minimize PCA components while maintaining >62.5% accuracy\n",
    "\n",
    "best_C = best_params['clf__C']\n",
    "best_gamma = best_params['clf__gamma']\n",
    "\n",
    "for n_components in range(65, 100):\n",
    "    pipe = Pipeline([\n",
    "        ('scaler', StandardScaler()),\n",
    "        ('pca', PCA(n_components=n_components, random_state=42)),\n",
    "        ('clf', SVC(kernel='rbf', C=best_C, gamma=best_gamma, random_state=42))\n",
    "    ])\n",
    "    \n",
    "    pipe.fit(X_train, y_train)\n",
    "    acc = pipe.score(X_test, y_test)\n",
    "    print(f\"PCA components = {n_components:3d} → Test Accuracy = {acc * 100:.2f}%\")\n",
    "    \n",
    "    if acc >= 0.625:\n",
    "        print(f\"\\nFound minimum features: PCA components = {n_components} with accuracy = {acc * 100:.2f}%\")\n",
    "        break\n"
   ]
  },
  {
   "cell_type": "markdown",
   "id": "1dfa38f8-9c84-4115-8ac1-e94eb888a3c1",
   "metadata": {},
   "source": [
    "# Summary & Conclusion\n",
    "We built a machine learning pipeline using TF-IDF features from the 20 Newsgroups dataset, reduced dimensionality with PCA, and used an RBF-kernel SVM as the classifier. After tuning hyperparameters (C and gamma) using GridSearchCV and systematically reducing PCA components, we found that:\n",
    "\n",
    "- Best Model: SVM (RBF kernel)\n",
    "- Best Parameters: C=1, gamma=0.01\n",
    "- Minimum PCA Components to reach ≥62.5% Accuracy: 71\n",
    "- Test Accuracy Achieved: 62.81%"
   ]
  },
  {
   "cell_type": "code",
   "execution_count": null,
   "id": "3a5eb226-293d-47f6-a840-7ac7cce85610",
   "metadata": {},
   "outputs": [],
   "source": []
  }
 ],
 "metadata": {
  "kernelspec": {
   "display_name": "Python 3 (ipykernel)",
   "language": "python",
   "name": "python3"
  },
  "language_info": {
   "codemirror_mode": {
    "name": "ipython",
    "version": 3
   },
   "file_extension": ".py",
   "mimetype": "text/x-python",
   "name": "python",
   "nbconvert_exporter": "python",
   "pygments_lexer": "ipython3",
   "version": "3.12.0"
  }
 },
 "nbformat": 4,
 "nbformat_minor": 5
}
